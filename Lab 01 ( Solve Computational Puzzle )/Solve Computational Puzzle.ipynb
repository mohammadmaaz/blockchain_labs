{
 "cells": [
  {
   "cell_type": "code",
   "execution_count": 1,
   "metadata": {},
   "outputs": [],
   "source": [
    "import hashlib\n",
    "import time\n",
    "import random"
   ]
  },
  {
   "cell_type": "code",
   "execution_count": 2,
   "metadata": {},
   "outputs": [],
   "source": [
    "str1 = ' 17k-3037 this is a block chain course'"
   ]
  },
  {
   "cell_type": "code",
   "execution_count": 3,
   "metadata": {},
   "outputs": [],
   "source": [
    "nonce = '000'"
   ]
  },
  {
   "cell_type": "code",
   "execution_count": 4,
   "metadata": {},
   "outputs": [],
   "source": [
    "str2 = nonce + str1"
   ]
  },
  {
   "cell_type": "code",
   "execution_count": 5,
   "metadata": {},
   "outputs": [
    {
     "name": "stdout",
     "output_type": "stream",
     "text": [
      "Hash not found!\n",
      "Hash not found!\n",
      "Hash not found!\n",
      "Hash not found!\n",
      "Hash not found!\n",
      "Hash not found!\n",
      "Hash found!\n"
     ]
    }
   ],
   "source": [
    "start_time = time.time()\n",
    "for n in range(0,1000):\n",
    "    nonce = random.randint(111,999)\n",
    "    str2 = str(nonce) + str1\n",
    "    result = hashlib.md5(str2.encode())\n",
    "    hashed = result.hexdigest()\n",
    "    if hashed.find('00') != -1:\n",
    "        print('Hash found!')\n",
    "        break\n",
    "    else:\n",
    "        print('Hash not found!')"
   ]
  },
  {
   "cell_type": "code",
   "execution_count": 6,
   "metadata": {},
   "outputs": [
    {
     "name": "stdout",
     "output_type": "stream",
     "text": [
      "---Computation 0.11077308654785156 seconds ---\n"
     ]
    }
   ],
   "source": [
    "print(\"---Computation %s seconds ---\" % (time.time() - start_time))"
   ]
  },
  {
   "cell_type": "code",
   "execution_count": 7,
   "metadata": {},
   "outputs": [],
   "source": [
    "start_time = time.time()\n",
    "str2 = str(nonce) + str1"
   ]
  },
  {
   "cell_type": "code",
   "execution_count": 8,
   "metadata": {},
   "outputs": [],
   "source": [
    "result = hashlib.md5(str2.encode())\n",
    "received_hashed = result.hexdigest()"
   ]
  },
  {
   "cell_type": "code",
   "execution_count": 9,
   "metadata": {},
   "outputs": [
    {
     "name": "stdout",
     "output_type": "stream",
     "text": [
      "Verified\n"
     ]
    }
   ],
   "source": [
    "if(hashed == received_hashed):\n",
    "    print('Verified')"
   ]
  },
  {
   "cell_type": "code",
   "execution_count": 10,
   "metadata": {},
   "outputs": [
    {
     "name": "stdout",
     "output_type": "stream",
     "text": [
      "---Verification 0.34417009353637695 seconds ---\n"
     ]
    }
   ],
   "source": [
    "print(\"---Verification %s seconds ---\" % (time.time() - start_time))"
   ]
  }
 ],
 "metadata": {
  "kernelspec": {
   "display_name": "Python 3",
   "language": "python",
   "name": "python3"
  },
  "language_info": {
   "codemirror_mode": {
    "name": "ipython",
    "version": 3
   },
   "file_extension": ".py",
   "mimetype": "text/x-python",
   "name": "python",
   "nbconvert_exporter": "python",
   "pygments_lexer": "ipython3",
   "version": "3.6.5"
  }
 },
 "nbformat": 4,
 "nbformat_minor": 2
}
